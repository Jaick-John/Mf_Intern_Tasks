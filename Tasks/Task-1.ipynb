{
 "cells": [
  {
   "cell_type": "code",
   "execution_count": 2,
   "metadata": {},
   "outputs": [],
   "source": [
    "import random"
   ]
  },
  {
   "cell_type": "code",
   "execution_count": 14,
   "metadata": {},
   "outputs": [
    {
     "name": "stdout",
     "output_type": "stream",
     "text": [
      "Programs after appending:  ['Java', 'C++', 'C#', 'Go', 'Python']\n",
      "Removed Program:  Java\n",
      "Programs left:  ['C++', 'C#', 'Go', 'Python']\n",
      "Element accessed:  C#\n",
      "Is the specified program present?  True\n",
      "C++\n",
      "C#\n",
      "Go\n",
      "Python\n"
     ]
    }
   ],
   "source": [
    "#List \n",
    "\n",
    "#Creation of a list\n",
    "Programs = [\"Java\",\"C++\",\"C#\",\"Go\"]\n",
    "\n",
    "#Adding new list elements\n",
    "Programs.append(\"Python\")\n",
    "print(\"Programs after appending: \", Programs)\n",
    "\n",
    "#Removing an element from the list\n",
    "random_index = random.randint(0,len(Programs)-1)\n",
    "\n",
    "removed_element = Programs.pop(random_index)\n",
    "print(\"Removed Program: \",removed_element)\n",
    "print(\"Programs left: \",Programs)\n",
    "\n",
    "#Accessing any element by index \n",
    "rand_fruit = random.randint(0,len(Programs)-1)\n",
    "print(\"Element accessed: \",Programs[rand_fruit])\n",
    "\n",
    "#Cheking if an element exists\n",
    "is_prog_present = \"Go\" in Programs\n",
    "print(\"Is the specified program present? \", is_prog_present)\n",
    "\n",
    "#Iteration\n",
    "for i in Programs:\n",
    "  print(i)\n",
    "  \n",
    "\n",
    "\n",
    "\n"
   ]
  },
  {
   "cell_type": "code",
   "execution_count": 16,
   "metadata": {},
   "outputs": [
    {
     "name": "stdout",
     "output_type": "stream",
     "text": [
      "After addition of element:  {'A': 'Apple', 'B': 'Ball', 'C': 'Cat', 'D': 'Dog'}\n",
      "Fruits after removing:  {'A': 'Apple', 'B': 'Ball', 'D': 'Dog'}\n",
      "Fruits after modification:  {'A': 'Alaskan Mamalute', 'B': 'Ball', 'D': 'Dog'}\n",
      "Keys in Fruits  dict_keys(['A', 'B', 'D'])\n",
      "Values in Fruits  dict_values(['Alaskan Mamalute', 'Ball', 'Dog'])\n"
     ]
    }
   ],
   "source": [
    "#Creating Dictionaries \n",
    "Fruits = {\n",
    "  \"A\" : \"Apple\",\n",
    "  \"B\" : \"Ball\",\n",
    "  \"C\" : \"Cat\"\n",
    "}\n",
    "\n",
    "#Addition\n",
    "Fruits[\"D\"] = \"Dog\"\n",
    "print(\"After addition of element: \", Fruits)\n",
    "\n",
    "#Deletion\n",
    "del Fruits[\"C\"]\n",
    "print(\"Fruits after removing: \",Fruits)\n",
    "\n",
    "#Modify\n",
    "Fruits[\"A\"] = \"Alaskan Mamalute\"\n",
    "print(\"Fruits after modification: \",Fruits)\n",
    "\n",
    "#Getting the keys and valus seperately \n",
    "\n",
    "Fruit_keys = Fruits.keys()\n",
    "Fruit_Val = Fruits.values()\n",
    "print(\"Keys in Fruits \",Fruit_keys)\n",
    "print(\"Values in Fruits \",Fruit_Val)\n",
    "\n",
    "\n",
    "\n"
   ]
  },
  {
   "cell_type": "code",
   "execution_count": 19,
   "metadata": {},
   "outputs": [
    {
     "name": "stdout",
     "output_type": "stream",
     "text": [
      "The set:  {1, 2, 3, 4, 5, 6, 7, 8, 9}\n",
      "Number of elements in the set: {1, 2, 3, 4, 5, 6, 7, 8, 9}\n",
      "Is the set empty: False\n",
      "Original numbers set: {1, 2, 3, 4, 5, 6, 7, 8, 9}\n",
      "New numbers set after adding: {1, 2, 3, 4, 5, 6, 7, 8, 9, 11, 13, 14}\n",
      "Numbers set after removing: {1, 3, 4, 5, 6, 7, 8, 9}\n",
      "Common elements between sets: {9, 4, 5}\n"
     ]
    }
   ],
   "source": [
    "#Create a set of numbers\n",
    "set_a = {1, 2, 3, 3, 4,5,5,6,7,8,9,9}  #Duplicates are automatically removed since we are creatin a set :)\n",
    "print(\"The set: \",set_a)\n",
    "\n",
    "#Check the size of the set\n",
    "set_size = len(set_a)\n",
    "print(\"Number of elements in the set:\", set_a)\n",
    "\n",
    "#Check if a set is empty\n",
    "is_empty_set = not set_a\n",
    "print(\"Is the set empty:\", is_empty_set)\n",
    "\n",
    "#Union Of Sets\n",
    "set_b = {11,13,14}\n",
    "new_numbers = set_a.union(set_b)\n",
    "print(\"Original numbers set:\", set_a)\n",
    "print(\"New numbers set after adding:\", new_numbers)\n",
    "\n",
    "#Remove an element from the set\n",
    "set_a.remove(2)\n",
    "print(\"Numbers set after removing:\", set_a)\n",
    "\n",
    "# Commmon Elements\n",
    "set_c = {2, 4, 5,9,10}\n",
    "common_elements = set_a.intersection(set_c)\n",
    "print(\"Common elements between sets:\", common_elements)"
   ]
  }
 ],
 "metadata": {
  "kernelspec": {
   "display_name": "Python 3",
   "language": "python",
   "name": "python3"
  },
  "language_info": {
   "codemirror_mode": {
    "name": "ipython",
    "version": 3
   },
   "file_extension": ".py",
   "mimetype": "text/x-python",
   "name": "python",
   "nbconvert_exporter": "python",
   "pygments_lexer": "ipython3",
   "version": "3.12.3"
  }
 },
 "nbformat": 4,
 "nbformat_minor": 2
}
